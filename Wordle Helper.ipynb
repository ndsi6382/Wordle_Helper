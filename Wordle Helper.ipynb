{
 "cells": [
  {
   "cell_type": "markdown",
   "id": "c34fb7fd-6521-4c00-a52a-fca8f3a49cbf",
   "metadata": {},
   "source": [
    "# Wordle Helper"
   ]
  },
  {
   "cell_type": "code",
   "execution_count": 1,
   "id": "c85fa387-6fb3-4264-bd98-5063fcf036e4",
   "metadata": {},
   "outputs": [],
   "source": [
    "import time\n",
    "from nltk.corpus import words"
   ]
  },
  {
   "cell_type": "code",
   "execution_count": 2,
   "id": "0ba40ac7-5d59-48f7-9389-f4e40558994f",
   "metadata": {},
   "outputs": [],
   "source": [
    "from itertools import combinations\n",
    "from tqdm import tqdm\n",
    "\n",
    "\n",
    "class WordleHelper():\n",
    "    def __init__(self, corpus=None, word_length=5):\n",
    "        if not corpus:\n",
    "            from nltk.corpus import words\n",
    "            corpus = [word for word in words.words() if word[0].islower()]\n",
    "        self.corpus = [x.lower() for x in corpus if len(x) == word_length]\n",
    "        self.word_length = word_length\n",
    "        self.letter_frequencies = {chr(k):0 for k in range(97,97+26)}\n",
    "        self.letter_positions = [{chr(k):0 for k in range(97,97+26)} for _ in range(self.word_length)]\n",
    "        for word in self.corpus:\n",
    "            for pos, char in enumerate(word):\n",
    "                self.letter_frequencies[char] += 1\n",
    "                self.letter_positions[pos][char] += 1\n",
    "    \n",
    "\n",
    "    def position_score(self, word):\n",
    "        return sum(self.letter_positions[pos][char] for pos, char in enumerate(word))\n",
    "\n",
    "\n",
    "    def frequency_score(self, word, exponent=1):\n",
    "        return sum(self.letter_frequencies[char] ** exponent for char in set(word))\n",
    "\n",
    "\n",
    "    def __best_k_combinatorial_explorer__(self, starter_chars, starter_words, starter_score, candidates, k, slack=0):\n",
    "        assert len(candidates) >= k\n",
    "        if len(starter_words) == self.best_k_starting_words_k:\n",
    "            f = 0\n",
    "            if slack > 0:\n",
    "                f = sum(self.frequency_score(word, 1.5) for word in starter_words)\n",
    "            self.best_k_starting_words_answer.append((starter_words, starter_score + f))\n",
    "            return\n",
    "        \n",
    "        for i, (word, score) in enumerate(candidates):\n",
    "            l_chars = starter_chars.union(set(word))\n",
    "            l_candidates = [cand for cand in candidates[i+1:] if not (set(cand[0]) & l_chars)]\n",
    "            if len(l_candidates) >= k-1:\n",
    "                self.__best_k_combinatorial_explorer__(\n",
    "                    l_chars,\n",
    "                    starter_words + [word],\n",
    "                    starter_score + score,\n",
    "                    l_candidates,\n",
    "                    k-1,\n",
    "                    slack\n",
    "                )\n",
    "                \n",
    "    \n",
    "    def best_k_starting_words(self, k, slack=0):\n",
    "        self.best_k_starting_words_answer = []\n",
    "        self.best_k_starting_words_k = k\n",
    "        ranked_alphabet = [x[0] for x in sorted([(a,b) for a,b in self.letter_frequencies.items()], key=lambda x: x[1], reverse=True)]\n",
    "        allowed_characters = set(ranked_alphabet[:self.word_length * k + slack])\n",
    "        candidates = [(word, self.position_score(word)) for word in self.corpus \n",
    "                          if len(set(word)) == self.word_length and \n",
    "                             set(word).issubset(allowed_characters)]\n",
    "\n",
    "        for i, (starter, score) in tqdm(enumerate(candidates), total=len(candidates)):\n",
    "            starter_chars = set(starter)\n",
    "            l_candidates = [cand for cand in candidates[i+1:] if not (set(cand[0]) & starter_chars)]\n",
    "            if len(l_candidates) >= k-1:\n",
    "                self.__best_k_combinatorial_explorer__(\n",
    "                    starter_chars,\n",
    "                    [starter],\n",
    "                    score,\n",
    "                    l_candidates,\n",
    "                    k-1,\n",
    "                    slack\n",
    "                )\n",
    "\n",
    "        if self.best_k_starting_words_answer:\n",
    "            answer = sorted(self.best_k_starting_words_answer, key=lambda x: x[1], reverse=True)\n",
    "            del self.best_k_starting_words_answer, self.best_k_starting_words_k\n",
    "            return [x[0] for x in answer]\n",
    "        else:\n",
    "            return self.best_k_starting_words(k, slack + 1)\n",
    "\n",
    "\n",
    "    def deducer(self, grey: list[str], yellow: list[str], green: dict[int,str]):\n",
    "        characters = set([chr(k) for k in range(97,97+26)])\n",
    "        grey = set([x.lower() for x in grey])\n",
    "        characters -= grey\n",
    "        answer = [word for word in self.corpus if set(word).issubset(characters)]\n",
    "        if yellow:\n",
    "            yellow = set([x.lower() for x in yellow])\n",
    "            answer = [word for word in answer if yellow.issubset(set(word))]\n",
    "        if green:\n",
    "            for k, v in green.items():\n",
    "                answer = [word for word in answer if word[k]==v.lower()]\n",
    "\n",
    "        answer = [(word, self.frequency_score(word, 1.5) + self.position_score(word)) for word in answer]\n",
    "        answer.sort(key = lambda x: x[1], reverse=True)\n",
    "        return [x[0] for x in answer]\n"
   ]
  },
  {
   "cell_type": "code",
   "execution_count": 3,
   "id": "dcbc83af-5b5b-4d76-8daa-7a31e5e10067",
   "metadata": {},
   "outputs": [
    {
     "name": "stderr",
     "output_type": "stream",
     "text": [
      "100%|██████████████████████████████████████| 1836/1836 [00:02<00:00, 665.71it/s]"
     ]
    },
    {
     "name": "stdout",
     "output_type": "stream",
     "text": [
      "Took 2.8427627086639404s.\n",
      "[['caret', 'humid', 'sonly'], ['carid', 'humet', 'sonly'], ['caret', 'mould', 'shiny'], ['count', 'marly', 'shied'], ['chute', 'marid', 'sonly'], ['curie', 'month', 'sadly'], ['curie', 'sadly', 'month'], ['carte', 'humid', 'sonly'], ['chine', 'dormy', 'sault'], ['count', 'marly', 'shide']]\n"
     ]
    },
    {
     "name": "stderr",
     "output_type": "stream",
     "text": [
      "\n"
     ]
    }
   ],
   "source": [
    "s = time.time()\n",
    "helper = WordleHelper()\n",
    "result = helper.best_k_starting_words(3)\n",
    "e = time.time()\n",
    "print(f\"Took {e-s}s.\")\n",
    "print(result[:10])"
   ]
  },
  {
   "cell_type": "code",
   "execution_count": 4,
   "id": "f0ca7346-4f38-4510-baf8-cadfd34e70a0",
   "metadata": {},
   "outputs": [
    {
     "name": "stdout",
     "output_type": "stream",
     "text": [
      "Took 0.08332371711730957s.\n",
      "['unlit', 'crunt', 'prunt', 'burnt', 'brunt', 'incut', 'unhit', 'input', 'unbit', 'blunt']\n"
     ]
    }
   ],
   "source": [
    "s = time.time()\n",
    "helper = WordleHelper()\n",
    "result = helper.deducer(list(\"zygoqesja\"), list(\"un\"), {4:'t'})\n",
    "e = time.time()\n",
    "print(f\"Took {e-s}s.\")\n",
    "print(result[:10])"
   ]
  }
 ],
 "metadata": {
  "kernelspec": {
   "display_name": "Python 3 (ipykernel)",
   "language": "python",
   "name": "python3"
  },
  "language_info": {
   "codemirror_mode": {
    "name": "ipython",
    "version": 3
   },
   "file_extension": ".py",
   "mimetype": "text/x-python",
   "name": "python",
   "nbconvert_exporter": "python",
   "pygments_lexer": "ipython3",
   "version": "3.10.12"
  }
 },
 "nbformat": 4,
 "nbformat_minor": 5
}
